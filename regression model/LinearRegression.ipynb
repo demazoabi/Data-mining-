{
 "cells": [
  {
   "cell_type": "code",
   "execution_count": 92,
   "id": "2f142656-0b8c-4d50-9cd3-dd8d848cbbf0",
   "metadata": {},
   "outputs": [],
   "source": [
    "import pandas as pd\n",
    "import numpy as np"
   ]
  },
  {
   "cell_type": "code",
   "execution_count": 2,
   "id": "774ce0f2-f664-425e-916d-9eda3e79bd72",
   "metadata": {},
   "outputs": [],
   "source": [
    "dt=pd.read_csv('C:\\\\Users\\\\user\\\\Downloads\\\\Housing.csv')"
   ]
  },
  {
   "cell_type": "code",
   "execution_count": 160,
   "id": "6e927911-c16a-48d2-9f1f-59fd1a459f51",
   "metadata": {},
   "outputs": [],
   "source": [
    "y=dt[\"price\"]"
   ]
  },
  {
   "cell_type": "code",
   "execution_count": 163,
   "id": "4f78d864-0d06-4976-a3a7-d1cf754cee86",
   "metadata": {},
   "outputs": [],
   "source": [
    "x = dt.drop(\"price\", axis=1)"
   ]
  },
  {
   "cell_type": "code",
   "execution_count": null,
   "id": "3b8ca012-bd82-40d2-997f-ffc1518dc6a1",
   "metadata": {},
   "outputs": [],
   "source": [
    "from sklearn.model_selection import train_test_split\n",
    "from sklearn.linear_model import LinearRegression\n",
    "from sklearn.metrics import mean_squared_error, r2_score"
   ]
  },
  {
   "cell_type": "code",
   "execution_count": 164,
   "id": "db50e0e5-2cf3-4ced-8541-b589476206b9",
   "metadata": {},
   "outputs": [],
   "source": [
    "x_train, x_val, y_train, y_val = train_test_split(x, y, test_size=0.3, random_state=42)"
   ]
  },
  {
   "cell_type": "code",
   "execution_count": 165,
   "id": "7eb188fe-5727-47d2-bb86-c5d4f0bc8895",
   "metadata": {},
   "outputs": [],
   "source": [
    "columns_to_encode = [5,6, 7,8,9,11,12]"
   ]
  },
  {
   "cell_type": "code",
   "execution_count": 166,
   "id": "3074a5f0-32dd-419e-a0ff-c15dab5fc382",
   "metadata": {},
   "outputs": [],
   "source": [
    "dt_encoded = pd.get_dummies(dt, columns=dt.columns[columns_to_encode], drop_first=True)"
   ]
  },
  {
   "cell_type": "code",
   "execution_count": 197,
   "id": "1a611666-3df4-4e8a-9083-3012095043ee",
   "metadata": {},
   "outputs": [],
   "source": [
    "x_encoded=dt_encoded.drop(\"price\",axis=1)"
   ]
  },
  {
   "cell_type": "code",
   "execution_count": 198,
   "id": "f193c886-baaa-414f-9e1c-55e9a4eb6fe0",
   "metadata": {},
   "outputs": [],
   "source": [
    "y_encoded=dt_encoded[\"price\"]"
   ]
  },
  {
   "cell_type": "code",
   "execution_count": 170,
   "id": "c2cfc36c-209d-4227-a816-a312ec805fa7",
   "metadata": {},
   "outputs": [],
   "source": [
    "x_train_en, x_val_en, y_train_en, y_val_en = train_test_split(x_encoded, y_encoded, test_size=0.3, random_state=42)"
   ]
  },
  {
   "cell_type": "code",
   "execution_count": 171,
   "id": "ab05b966-377a-4a69-aa26-bc98d322c8cd",
   "metadata": {},
   "outputs": [],
   "source": [
    "model = LinearRegression()\n",
    "model.fit(x_train_en, y_train_en)\n",
    "coefficients = model.coef_"
   ]
  },
  {
   "cell_type": "code",
   "execution_count": 174,
   "id": "71e50678-91a6-4da1-aa0c-0eec07c96313",
   "metadata": {},
   "outputs": [],
   "source": [
    "y_train_pred = model.predict(x_train_en)\n",
    "y_test_pred = model.predict(x_val_en)"
   ]
  },
  {
   "cell_type": "code",
   "execution_count": 175,
   "id": "640e6555-3209-4a5e-bfa9-cec945106ad0",
   "metadata": {},
   "outputs": [],
   "source": [
    "r2_train = r2_score(y_train_en, y_train_pred)"
   ]
  },
  {
   "cell_type": "code",
   "execution_count": 176,
   "id": "648b1b3a-1a34-4dcf-a7d6-88bfe3f898c7",
   "metadata": {},
   "outputs": [],
   "source": [
    "r2_test = r2_score(y_val_en, y_test_pred)"
   ]
  },
  {
   "cell_type": "code",
   "execution_count": 177,
   "id": "19021eae-fd79-40ad-8174-d2216e0df121",
   "metadata": {},
   "outputs": [],
   "source": [
    "mse_train = mean_squared_error(y_train_en, y_train_pred)"
   ]
  },
  {
   "cell_type": "code",
   "execution_count": 178,
   "id": "370983e3-8ca9-4679-aa09-60d5587e5358",
   "metadata": {},
   "outputs": [],
   "source": [
    "rmse_train=mean_squared_error(y_train_en, y_train_pred, squared=False)"
   ]
  },
  {
   "cell_type": "code",
   "execution_count": 179,
   "id": "c797d88a-23ea-4d98-ac05-57b778b3c27c",
   "metadata": {},
   "outputs": [],
   "source": [
    "mse_test = mean_squared_error(y_val_en, y_test_pred)"
   ]
  },
  {
   "cell_type": "code",
   "execution_count": 180,
   "id": "37c344b5-1022-4950-b69e-30f102e9fc24",
   "metadata": {},
   "outputs": [],
   "source": [
    "rmse_test = mean_squared_error(y_val_en, y_test_pred,squared=False)"
   ]
  },
  {
   "cell_type": "code",
   "execution_count": 181,
   "id": "cd14142c-176d-4666-a486-11ac470feeb0",
   "metadata": {},
   "outputs": [
    {
     "name": "stdout",
     "output_type": "stream",
     "text": [
      "R-squared (Train): 0.6931989807027312\n"
     ]
    }
   ],
   "source": [
    "print(\"R-squared (Train):\", r2_train)"
   ]
  },
  {
   "cell_type": "code",
   "execution_count": 182,
   "id": "d642d03f-cc75-4f9f-838c-81791a8b415f",
   "metadata": {},
   "outputs": [
    {
     "name": "stdout",
     "output_type": "stream",
     "text": [
      "R-squared (Test): 0.6463350878895877\n"
     ]
    }
   ],
   "source": [
    "print(\"R-squared (Test):\", r2_test)"
   ]
  },
  {
   "cell_type": "code",
   "execution_count": 183,
   "id": "e366443c-a817-49b3-8f3a-c42d0d096351",
   "metadata": {},
   "outputs": [
    {
     "name": "stdout",
     "output_type": "stream",
     "text": [
      "MSE (Train): 963835379828.3597\n"
     ]
    }
   ],
   "source": [
    "print(\"MSE (Train):\", mse_train)"
   ]
  },
  {
   "cell_type": "code",
   "execution_count": 184,
   "id": "52f25362-3dc1-4179-9a78-cddd7a3f0f54",
   "metadata": {},
   "outputs": [
    {
     "name": "stdout",
     "output_type": "stream",
     "text": [
      "RMSE (Train): 981751.1802021731\n"
     ]
    }
   ],
   "source": [
    "print(\"RMSE (Train):\", rmse_train)"
   ]
  },
  {
   "cell_type": "code",
   "execution_count": 185,
   "id": "b866e459-c8cf-47ce-9ff3-44f28625972c",
   "metadata": {},
   "outputs": [
    {
     "name": "stdout",
     "output_type": "stream",
     "text": [
      "MSE (Test): 1523019469501.291\n"
     ]
    }
   ],
   "source": [
    "print(\"MSE (Test):\", mse_test)"
   ]
  },
  {
   "cell_type": "code",
   "execution_count": 186,
   "id": "dc1ca83c-539d-4232-af73-9e0b0326da1b",
   "metadata": {},
   "outputs": [
    {
     "name": "stdout",
     "output_type": "stream",
     "text": [
      "RMSE (Test): 1234106.7496376848\n"
     ]
    }
   ],
   "source": [
    "print(\"RMSE (Test):\", rmse_test)"
   ]
  },
  {
   "cell_type": "code",
   "execution_count": 187,
   "id": "dfa16be9-7a8d-40e8-9cce-fbca90219f5e",
   "metadata": {},
   "outputs": [],
   "source": [
    "from python_project_ex1 import rmse_cal\n",
    "from python_project_ex1 import score_linear"
   ]
  },
  {
   "cell_type": "code",
   "execution_count": 188,
   "id": "5392e95e-7467-4202-aebb-05cff28515d3",
   "metadata": {},
   "outputs": [],
   "source": [
    "train_rmse = rmse_cal(y_train_en, y_train_pred)"
   ]
  },
  {
   "cell_type": "code",
   "execution_count": 189,
   "id": "c075f637-c1ba-4833-97b1-dc7ef0e128f2",
   "metadata": {},
   "outputs": [],
   "source": [
    "test_rmse = rmse_cal(y_val_en,y_test_pred)"
   ]
  },
  {
   "cell_type": "code",
   "execution_count": 190,
   "id": "97223bf3-6500-4795-8f2d-703cf40b5678",
   "metadata": {},
   "outputs": [
    {
     "name": "stdout",
     "output_type": "stream",
     "text": [
      "Train RMSE: 981751.1802021731\n"
     ]
    }
   ],
   "source": [
    "print(\"Train RMSE:\", train_rmse)"
   ]
  },
  {
   "cell_type": "code",
   "execution_count": 191,
   "id": "e905265f-d7da-4b54-acbc-083bb9c364c2",
   "metadata": {},
   "outputs": [
    {
     "name": "stdout",
     "output_type": "stream",
     "text": [
      "Test RMSE: 1234106.7496376848\n"
     ]
    }
   ],
   "source": [
    "print(\"Test RMSE:\", test_rmse)"
   ]
  },
  {
   "cell_type": "code",
   "execution_count": 192,
   "id": "0a48b840-6690-406f-b9fe-0c248281dc03",
   "metadata": {},
   "outputs": [],
   "source": [
    "train_sc=score_linear(x_train_en,coefficients)"
   ]
  },
  {
   "cell_type": "code",
   "execution_count": 76,
   "id": "2e17cb87-189b-4082-8558-c3322596720b",
   "metadata": {},
   "outputs": [
    {
     "name": "stdout",
     "output_type": "stream",
     "text": [
      "Train SC: [-0.45356088 -0.83854278 -0.84701351 -1.16675475 -0.45125246 -0.93759756\n",
      " -0.77243766 -0.91364992 -0.53128435 -0.93647853 -0.54188861 -0.61871042\n",
      " -0.23784806 -0.50348273 -0.89348918 -0.95638116 -0.86491934 -0.32151099\n",
      " -0.99127911 -0.87318163 -0.39648031 -0.89483684 -0.6307746  -0.7597887\n",
      " -0.76519147 -0.22313622 -1.18013405 -0.40692317 -1.01909444 -0.87988473\n",
      " -0.35612115 -0.6417028  -0.52502399 -0.93777743 -0.24341247 -0.81369116\n",
      " -0.87846117 -0.79827946 -0.99924458 -0.97360114 -0.1939378  -1.0247989\n",
      " -0.25807859 -0.33965059 -1.1154087  -0.93442092 -0.32348859 -1.17013389\n",
      " -0.49599207 -0.45198026 -0.49584173 -1.00617543 -0.57228197 -0.37898471\n",
      " -0.21714302 -0.4364892  -0.30903327 -0.49128825 -0.29039302 -0.88345759\n",
      " -0.91095244 -0.78111217 -0.83582552 -0.51857297 -0.8874248  -0.26753179\n",
      " -0.74624884 -0.87825922 -0.9336121  -0.39864497 -0.25754959 -0.97610311\n",
      " -0.35357779 -0.41441813 -0.34743876 -0.39776775 -0.45420632 -0.35817794\n",
      " -0.30707903 -0.26025096 -0.20628627 -0.93803017 -1.03348409 -0.99594203\n",
      " -0.329127   -0.4397928  -0.48991619 -0.4894371  -0.85112727 -0.73492309\n",
      " -0.28226337 -0.94930465 -0.25704565 -0.34781219 -0.44336964 -0.34494822\n",
      " -0.57065879 -0.82260828 -0.23219333 -1.00786001 -0.81168513 -0.91219612\n",
      " -0.20773869 -0.27651149 -0.69902491 -0.19052253 -0.34195131 -0.33070536\n",
      " -0.86517998 -0.54711953 -0.49658732 -0.32159371 -0.89410104 -0.54685778\n",
      " -0.48269239 -0.90235448 -0.40070543 -0.91330525 -0.25116637 -0.47977167\n",
      " -0.33119586 -0.80920782 -0.64557335 -0.26327426 -0.89524747 -0.30723841\n",
      " -0.87426212 -0.21209655 -0.89602711 -0.28973545 -0.87000217 -0.35836978\n",
      " -0.13913531 -0.44372198 -0.40691036 -0.35924886 -0.8612788  -1.03397885\n",
      " -0.24791943 -0.21677325 -0.78285675 -0.93886592 -0.86209997 -0.92976064\n",
      " -0.83278222 -0.85201373 -0.84813837 -0.26368465 -0.24397825 -0.85579403\n",
      " -0.34426523 -0.91300148 -0.30263734 -0.43387413 -0.67917214 -0.39105349\n",
      " -0.95883227 -0.21388691 -0.86695974 -0.09630257 -0.2171735  -0.24861121\n",
      " -0.19029597 -0.91792352 -0.73010047 -0.24404465 -0.16213644 -0.67672746\n",
      " -0.39362932 -0.91014254 -0.73257284 -0.35303762 -0.80812175 -0.85824619\n",
      " -0.97742864 -0.80360113 -0.41506852 -0.20296976 -0.29619359 -0.42522585\n",
      " -0.31079924 -0.42049639 -0.86817594 -0.88440221 -0.40070292 -1.03321184\n",
      " -0.48718496 -0.80203802 -0.33461962 -0.17221202 -0.77542682 -0.30233546\n",
      " -0.39961154 -0.2009467  -0.8633089  -0.33310095 -0.75920793 -0.48174996\n",
      " -0.23651092 -0.2586103  -0.44307317 -0.19078238 -0.54439008 -0.79005483\n",
      " -0.49366271 -0.32578242 -0.42287118 -0.35669205 -0.31131373 -0.25535562\n",
      " -0.42510485 -1.09823625 -0.58138604 -0.63661352 -0.88686083 -0.87658894\n",
      " -0.2562969  -0.30027911 -0.84861198 -1.00803109 -0.56737982 -0.88255039\n",
      " -0.24809368 -0.79473959 -0.31779982 -0.97813791 -0.18549897 -0.52034056\n",
      " -0.26412149 -0.26547243 -0.94528043 -0.81254066 -0.34871024 -0.78529473\n",
      " -0.25960875 -0.9294898  -0.21933788 -0.82432036 -0.37572838 -0.27274549\n",
      " -0.41165535 -0.94223321 -0.19883364 -0.87757683 -0.17476084 -0.85565005\n",
      " -0.4120034  -0.73657867 -0.37688522 -0.97726261 -0.25254216 -0.60500549\n",
      " -0.52407486 -0.87590379 -0.77946377 -0.95924564 -0.12081896 -1.03266473\n",
      " -0.71743374 -0.85159282 -0.37707879 -0.9146312  -0.38991531 -0.34653154\n",
      " -0.94467752 -0.87588303 -0.17098502 -0.96919415 -0.46249391 -0.42457573\n",
      " -0.49137775 -0.09205434 -0.73356055 -0.25697803 -0.79703677 -0.48761488\n",
      " -0.87574132 -1.04066628 -0.95044301 -0.56229785 -0.29874044 -0.92581183\n",
      " -0.22153275 -0.87784045 -0.2919201  -0.27485323 -0.19360469 -0.22857053\n",
      " -0.30339963 -0.94632252 -0.96710428 -0.97645255 -0.77060994 -0.22762535\n",
      " -0.9476575  -0.13215831 -0.28563575 -0.15978981 -0.34570265 -0.89260816\n",
      " -0.32713266 -0.22605038 -0.90183567 -0.96770657 -1.08493744 -0.3898504\n",
      " -0.31063021 -0.411487   -0.86718231 -0.38477839 -0.49033645 -1.08421178\n",
      " -0.81579947 -0.73680118 -0.13258501 -0.28868185 -1.02591113 -0.74808631\n",
      " -1.02351263 -0.90759722 -0.64315109 -0.17735877 -0.77288451 -0.33285918\n",
      " -0.2800925  -0.1733952  -0.31686524 -0.50373769 -0.27387772 -0.19019896\n",
      " -0.56044981 -0.8908399  -0.90649952 -0.88353998 -0.63787461 -0.81979386\n",
      " -0.52885063 -0.830489   -0.37754664 -0.44077515 -0.78798456 -0.10385951\n",
      " -0.98118414 -0.86411238 -0.13378774 -0.16083859 -0.22758699 -1.00193218\n",
      " -0.40149669 -0.85846738 -0.78360573 -0.12307901 -1.07532925 -0.19484204\n",
      " -0.806479   -0.61325332 -0.8063939  -0.23040962 -0.47883983 -0.8393904\n",
      " -0.9420615  -0.25301893 -0.30063089 -0.15592504 -0.79584763 -0.92662753\n",
      " -0.45641563 -0.52434233 -0.7958818  -1.03963308 -0.26277634 -0.3771696\n",
      " -0.37416784 -0.70562966 -1.01763348 -1.22951133 -0.4812443  -0.95116865\n",
      " -0.38091158 -0.23659202 -1.02813676]\n"
     ]
    }
   ],
   "source": [
    "print(\"Train SC:\", train_sc)"
   ]
  },
  {
   "cell_type": "code",
   "execution_count": 193,
   "id": "e31f7fb3-3d43-4d8d-aec8-b1611c642757",
   "metadata": {},
   "outputs": [],
   "source": [
    "import matplotlib.pyplot as plt"
   ]
  },
  {
   "cell_type": "code",
   "execution_count": 194,
   "id": "7876d857-73f6-4616-9d6d-76578dc01955",
   "metadata": {},
   "outputs": [
    {
     "data": {
      "image/png": "[encoded data removed]",
      "text/plain": [
       "<Figure size 640x480 with 1 Axes>"
      ]
     },
     "metadata": {},
     "output_type": "display_data"
    }
   ],
   "source": [
    "plt.scatter(y_val_en, y_test_pred)\n",
    "plt.xlabel(\"Actual Values\")\n",
    "plt.ylabel(\"Predicted Values\")\n",
    "plt.title(\"Actual vs. Predicted Values\")\n",
    "plt.show()"
   ]
  },
  {
   "cell_type": "code",
   "execution_count": null,
   "id": "3aa8f4e8-4796-4d79-9f79-4715d9defe63",
   "metadata": {},
   "outputs": [],
   "source": []
  }
 ],
 "metadata": {
  "kernelspec": {
   "display_name": "Python 3 (ipykernel)",
   "language": "python",
   "name": "python3"
  },
  "language_info": {
   "codemirror_mode": {
    "name": "ipython",
    "version": 3
   },
   "file_extension": ".py",
   "mimetype": "text/x-python",
   "name": "python",
   "nbconvert_exporter": "python",
   "pygments_lexer": "ipython3",
   "version": "3.11.7"
  }
 },
 "nbformat": 4,
 "nbformat_minor": 5
}
