{
 "cells": [
  {
   "cell_type": "code",
   "execution_count": 48,
   "id": "c188a22d",
   "metadata": {},
   "outputs": [],
   "source": [
    "import pandas as pd"
   ]
  },
  {
   "cell_type": "code",
   "execution_count": 49,
   "id": "a7f72f3d",
   "metadata": {},
   "outputs": [],
   "source": [
    "data = pd.read_csv(\"C:\\\\Tweets.csv\")"
   ]
  },
  {
   "cell_type": "code",
   "execution_count": 50,
   "id": "e65c5f2b",
   "metadata": {},
   "outputs": [
    {
     "name": "stdout",
     "output_type": "stream",
     "text": [
      "Index(['tweet_id', 'airline_sentiment', 'airline_sentiment_confidence',\n",
      "       'negativereason', 'negativereason_confidence', 'airline',\n",
      "       'airline_sentiment_gold', 'name', 'negativereason_gold',\n",
      "       'retweet_count', 'text', 'tweet_coord', 'tweet_created',\n",
      "       'tweet_location', 'user_timezone'],\n",
      "      dtype='object')\n",
      "           tweet_id  airline_sentiment_confidence  negativereason_confidence  \\\n",
      "count  1.464000e+04                  14640.000000               10522.000000   \n",
      "mean   5.692184e+17                      0.900169                   0.638298   \n",
      "std    7.791112e+14                      0.162830                   0.330440   \n",
      "min    5.675883e+17                      0.335000                   0.000000   \n",
      "25%    5.685592e+17                      0.692300                   0.360600   \n",
      "50%    5.694779e+17                      1.000000                   0.670600   \n",
      "75%    5.698905e+17                      1.000000                   1.000000   \n",
      "max    5.703106e+17                      1.000000                   1.000000   \n",
      "\n",
      "       retweet_count  \n",
      "count   14640.000000  \n",
      "mean        0.082650  \n",
      "std         0.745778  \n",
      "min         0.000000  \n",
      "25%         0.000000  \n",
      "50%         0.000000  \n",
      "75%         0.000000  \n",
      "max        44.000000  \n",
      "airline_sentiment\n",
      "negative    9178\n",
      "neutral     3099\n",
      "positive    2363\n",
      "Name: count, dtype: int64\n"
     ]
    }
   ],
   "source": [
    "print(data.columns)\n",
    "print(data.describe())\n",
    "print(data['airline_sentiment'].value_counts())"
   ]
  },
  {
   "cell_type": "code",
   "execution_count": 51,
   "id": "584e4c0d",
   "metadata": {},
   "outputs": [],
   "source": [
    "data['text'] = data['text'].str.replace(r'\\W', ' ')"
   ]
  },
  {
   "cell_type": "code",
   "execution_count": 52,
   "id": "790eaf89",
   "metadata": {},
   "outputs": [
    {
     "name": "stderr",
     "output_type": "stream",
     "text": [
      "[nltk_data] Downloading package stopwords to\n",
      "[nltk_data]     C:\\Users\\user\\AppData\\Roaming\\nltk_data...\n",
      "[nltk_data]   Package stopwords is already up-to-date!\n"
     ]
    },
    {
     "data": {
      "text/plain": [
       "True"
      ]
     },
     "execution_count": 52,
     "metadata": {},
     "output_type": "execute_result"
    }
   ],
   "source": [
    "import nltk\n",
    "nltk.download('stopwords')"
   ]
  },
  {
   "cell_type": "code",
   "execution_count": 53,
   "id": "f6b4c4d8",
   "metadata": {},
   "outputs": [
    {
     "name": "stdout",
     "output_type": "stream",
     "text": [
      "airline                       \n",
      "American        @americanair      2706\n",
      "                to                1734\n",
      "                the               1170\n",
      "                i                 1113\n",
      "                a                  836\n",
      "                and                797\n",
      "                for                773\n",
      "                you                741\n",
      "                on                 713\n",
      "                my                 649\n",
      "Delta           @jetblue          2007\n",
      "                to                1106\n",
      "                the                848\n",
      "                i                  743\n",
      "                a                  558\n",
      "                on                 526\n",
      "                for                464\n",
      "                and                453\n",
      "                you                449\n",
      "                flight             420\n",
      "Southwest       @southwestair     2362\n",
      "                to                1379\n",
      "                the                947\n",
      "                i                  884\n",
      "                for                705\n",
      "                a                  691\n",
      "                my                 558\n",
      "                you                556\n",
      "                on                 537\n",
      "                and                534\n",
      "US Airways      @usairways        2882\n",
      "                to                1894\n",
      "                the               1223\n",
      "                i                 1111\n",
      "                a                  965\n",
      "                for                900\n",
      "                on                 892\n",
      "                and                845\n",
      "                flight             727\n",
      "                you                726\n",
      "United          @united           3719\n",
      "                to                2228\n",
      "                the               1683\n",
      "                i                 1331\n",
      "                a                 1272\n",
      "                for               1010\n",
      "                you               1006\n",
      "                and                979\n",
      "                my                 889\n",
      "                on                 882\n",
      "Virgin America  @virginamerica     483\n",
      "                to                 249\n",
      "                i                  169\n",
      "                the                163\n",
      "                a                  139\n",
      "                you                129\n",
      "                for                112\n",
      "                my                 105\n",
      "                on                 102\n",
      "                flight              92\n",
      "Name: text, dtype: int64\n"
     ]
    }
   ],
   "source": [
    "top_words = data.groupby('airline')['text'].apply(lambda x: pd.Series(' '.join(x).lower().split()).value_counts().head(10))\n",
    "print(top_words)"
   ]
  },
  {
   "cell_type": "code",
   "execution_count": 54,
   "id": "3bb2f79c",
   "metadata": {},
   "outputs": [],
   "source": [
    "from sklearn.model_selection import train_test_split\n",
    "train_data, test_data = train_test_split(data, test_size=0.3, random_state=42)"
   ]
  },
  {
   "cell_type": "code",
   "execution_count": 55,
   "id": "14b93606",
   "metadata": {},
   "outputs": [
    {
     "name": "stdout",
     "output_type": "stream",
     "text": [
      "  (0, 5676)\t0.18332050200557587\n",
      "  (0, 3350)\t0.3125789825606384\n",
      "  (0, 7178)\t0.33824032632007733\n",
      "  (0, 430)\t0.26283191552540397\n",
      "  (0, 4725)\t0.2529951875330347\n",
      "  (0, 8021)\t0.09053535321130156\n",
      "  (0, 5822)\t0.20917025071811787\n",
      "  (0, 6733)\t0.21714910913379717\n",
      "  (0, 2686)\t0.2762672188591472\n",
      "  (0, 4070)\t0.20106056057132318\n",
      "  (0, 10935)\t0.1473865119226825\n",
      "  (0, 11950)\t0.14366432547019645\n",
      "  (0, 6393)\t0.19415932690073123\n",
      "  (0, 5466)\t0.2292327981324229\n",
      "  (0, 10614)\t0.3125789825606384\n",
      "  (0, 1207)\t0.353251250137464\n",
      "  (0, 4861)\t0.09123170276992891\n",
      "  (0, 9010)\t0.17449986505465276\n",
      "  (0, 6368)\t0.10709591260647869\n",
      "  (1, 3855)\t0.38783131610689137\n",
      "  (1, 10821)\t0.23966931915720752\n",
      "  (1, 2028)\t0.15509118577211845\n",
      "  (1, 1970)\t0.30682212135714304\n",
      "  (1, 10983)\t0.08469176885500944\n",
      "  (1, 8367)\t0.22863518843116257\n",
      "  :\t:\n",
      "  (10246, 5839)\t0.18127344436436105\n",
      "  (10246, 11456)\t0.10169412220599004\n",
      "  (10246, 2697)\t0.1525696793172952\n",
      "  (10246, 10983)\t0.08052757743297828\n",
      "  (10246, 12261)\t0.10429572341895883\n",
      "  (10247, 11213)\t0.3037554839310798\n",
      "  (10247, 9774)\t0.321744716950549\n",
      "  (10247, 9755)\t0.3037554839310798\n",
      "  (10247, 11873)\t0.2729249805561466\n",
      "  (10247, 5516)\t0.2500138915614335\n",
      "  (10247, 7998)\t0.21132516582132366\n",
      "  (10247, 1992)\t0.219311214082913\n",
      "  (10247, 2164)\t0.15133719264879933\n",
      "  (10247, 9780)\t0.21183927708037809\n",
      "  (10247, 10551)\t0.1906824273366523\n",
      "  (10247, 11564)\t0.43969539571099\n",
      "  (10247, 7972)\t0.10712710138926584\n",
      "  (10247, 6475)\t0.13234041118278717\n",
      "  (10247, 6268)\t0.20658499556108906\n",
      "  (10247, 1789)\t0.08730637862692255\n",
      "  (10247, 6814)\t0.16174806699425345\n",
      "  (10247, 10805)\t0.11280367207748179\n",
      "  (10247, 10983)\t0.06492981158906024\n",
      "  (10247, 11964)\t0.14428727255171234\n",
      "  (10247, 6368)\t0.20374592505285719\n",
      "  (0, 12261)\t0.13393469110718587\n",
      "  (0, 10196)\t0.1553544564056818\n",
      "  (0, 9010)\t0.26436758659568294\n",
      "  (0, 8115)\t0.5351762331248818\n",
      "  (0, 7570)\t0.14798961471760502\n",
      "  (0, 5108)\t0.5351762331248818\n",
      "  (0, 4995)\t0.13515379435979108\n",
      "  (0, 4243)\t0.3416746280797934\n",
      "  (0, 2347)\t0.3023542667476122\n",
      "  (0, 1639)\t0.25861543120809866\n",
      "  (1, 12249)\t0.271912811993106\n",
      "  (1, 11859)\t0.16297620543592795\n",
      "  (1, 11593)\t0.2537055737584655\n",
      "  (1, 10983)\t0.18057244430338754\n",
      "  (1, 10805)\t0.1568557977831912\n",
      "  (1, 10369)\t0.2100513531300518\n",
      "  (1, 7927)\t0.3106131982552218\n",
      "  (1, 7570)\t0.12920565053831745\n",
      "  (1, 6268)\t0.14363031669090598\n",
      "  (1, 6250)\t0.13469128762550597\n",
      "  (1, 5839)\t0.20324086468023891\n",
      "  (1, 5103)\t0.17509400676590617\n",
      "  (1, 4942)\t0.2346826795260327\n",
      "  (1, 4924)\t0.4223781716104261\n",
      "  (1, 4917)\t0.2761736336204877\n",
      "  :\t:\n",
      "  (4390, 2560)\t0.4559614543420812\n",
      "  (4390, 2502)\t0.2819698430407692\n",
      "  (4390, 1860)\t0.29598868392245437\n",
      "  (4390, 1780)\t0.187012015002695\n",
      "  (4391, 11593)\t0.11304567794104187\n",
      "  (4391, 10983)\t0.08045914830070358\n",
      "  (4391, 10940)\t0.24034191713136674\n",
      "  (4391, 10893)\t0.22655047751958363\n",
      "  (4391, 10846)\t0.17686090664154372\n",
      "  (4391, 10668)\t0.2181274838111273\n",
      "  (4391, 9291)\t0.27592333314707945\n",
      "  (4391, 9044)\t0.3684487619065203\n",
      "  (4391, 7857)\t0.14360815835841337\n",
      "  (4391, 6944)\t0.25881514746925915\n",
      "  (4391, 6080)\t0.3764050276850105\n",
      "  (4391, 6011)\t0.12419511900014316\n",
      "  (4391, 5943)\t0.18420833449909008\n",
      "  (4391, 5839)\t0.18111940540158925\n",
      "  (4391, 5831)\t0.1945097967691986\n",
      "  (4391, 5745)\t0.1800394287984883\n",
      "  (4391, 5260)\t0.1506235946142489\n",
      "  (4391, 2806)\t0.30122582689843613\n",
      "  (4391, 2787)\t0.1426097091879853\n",
      "  (4391, 1941)\t0.16050979204139681\n",
      "  (4391, 1855)\t0.19921279469618275\n"
     ]
    }
   ],
   "source": [
    "from sklearn.feature_extraction.text import TfidfVectorizer\n",
    "tfidf_vectorizer = TfidfVectorizer()\n",
    "X_train_tfidf = tfidf_vectorizer.fit_transform(train_data['text'])\n",
    "X_test_tfidf = tfidf_vectorizer.transform(test_data['text'])\n",
    "print(X_train_tfidf)\n",
    "print(X_test_tfidf)"
   ]
  },
  {
   "cell_type": "code",
   "execution_count": 56,
   "id": "0d1a1d18",
   "metadata": {},
   "outputs": [
    {
     "name": "stdout",
     "output_type": "stream",
     "text": [
      "Classification Report:\n",
      "              precision    recall  f1-score   support\n",
      "\n",
      "    negative       0.76      0.97      0.86      2814\n",
      "     neutral       0.69      0.39      0.50       884\n",
      "    positive       0.87      0.40      0.55       694\n",
      "\n",
      "    accuracy                           0.76      4392\n",
      "   macro avg       0.78      0.59      0.63      4392\n",
      "weighted avg       0.77      0.76      0.74      4392\n",
      "\n"
     ]
    }
   ],
   "source": [
    "from sklearn.ensemble import RandomForestClassifier\n",
    "from sklearn.metrics import classification_report\n",
    "df=data\n",
    "df.drop(columns=['tweet_id','airline_sentiment_gold','tweet_coord', 'tweet_created', 'tweet_location', 'user_timezone'])\n",
    "tfidf_vectorizer = TfidfVectorizer()\n",
    "X = tfidf_vectorizer.fit_transform(df['text'])\n",
    "y = df['airline_sentiment']\n",
    "X_train, X_test, y_train, y_test = train_test_split(X, y, test_size=0.3, random_state=42)\n",
    "classifier = RandomForestClassifier()\n",
    "classifier.fit(X_train, y_train)\n",
    "y_pred = classifier.predict(X_test)\n",
    "report = classification_report(y_test, y_pred, output_dict=True)\n",
    "report_df = pd.DataFrame(report).transpose()\n",
    "report_df.to_csv(\"classification_report.csv\")\n",
    "print(\"Classification Report:\")\n",
    "print(classification_report(y_test, y_pred))"
   ]
  },
  {
   "cell_type": "code",
   "execution_count": null,
   "id": "cfa4ac95",
   "metadata": {},
   "outputs": [],
   "source": []
  },
  {
   "cell_type": "code",
   "execution_count": null,
   "id": "70f6bce8",
   "metadata": {},
   "outputs": [],
   "source": []
  }
 ],
 "metadata": {
  "kernelspec": {
   "display_name": "Python 3 (ipykernel)",
   "language": "python",
   "name": "python3"
  },
  "language_info": {
   "codemirror_mode": {
    "name": "ipython",
    "version": 3
   },
   "file_extension": ".py",
   "mimetype": "text/x-python",
   "name": "python",
   "nbconvert_exporter": "python",
   "pygments_lexer": "ipython3",
   "version": "3.11.5"
  }
 },
 "nbformat": 4,
 "nbformat_minor": 5
}
