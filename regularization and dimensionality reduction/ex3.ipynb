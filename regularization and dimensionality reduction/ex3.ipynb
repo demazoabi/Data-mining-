{
 "cells": [
  {
   "cell_type": "code",
   "execution_count": 31,
   "id": "3a353666",
   "metadata": {},
   "outputs": [],
   "source": [
    "import pandas as pd\n",
    "from sklearn.model_selection import train_test_split"
   ]
  },
  {
   "cell_type": "code",
   "execution_count": 32,
   "id": "e368a68a",
   "metadata": {},
   "outputs": [],
   "source": [
    "data = pd.read_csv(\"C:\\\\boston.csv\")"
   ]
  },
  {
   "cell_type": "code",
   "execution_count": 33,
   "id": "38cf05e8",
   "metadata": {},
   "outputs": [],
   "source": [
    "train_data, test_data = train_test_split(data, test_size=0.3, random_state=42)\n",
    "X_train = train_data.drop(columns=['MEDV']) \n",
    "y_train = train_data['MEDV']\n",
    "X_test = test_data.drop(columns=['MEDV'])\n",
    "y_test = test_data['MEDV']"
   ]
  },
  {
   "cell_type": "code",
   "execution_count": 34,
   "id": "743a39c9",
   "metadata": {},
   "outputs": [],
   "source": [
    "from sklearn.preprocessing import StandardScaler\n",
    "scaler = StandardScaler()\n",
    "X_train_scaled = scaler.fit_transform(X_train)\n",
    "X_test_scaled = scaler.transform(X_test)"
   ]
  },
  {
   "cell_type": "code",
   "execution_count": 35,
   "id": "91e300ef",
   "metadata": {},
   "outputs": [],
   "source": [
    "from sklearn.linear_model import LinearRegression\n",
    "model = LinearRegression()\n",
    "model.fit(X_train_scaled, y_train)\n",
    "train_pred_reg = model.predict(X_train_scaled)\n",
    "test_pred_reg = model.predict(X_test_scaled)"
   ]
  },
  {
   "cell_type": "code",
   "execution_count": 36,
   "id": "739931f0",
   "metadata": {},
   "outputs": [
    {
     "name": "stdout",
     "output_type": "stream",
     "text": [
      "RMSE for training data Reg: 4.748208239685937\n",
      "RMSE for validation data Reg: 4.638689926172821\n"
     ]
    }
   ],
   "source": [
    "from sklearn.metrics import mean_squared_error\n",
    "rmse_train_reg = mean_squared_error(y_train,train_pred_reg, squared=False)\n",
    "rmse_validation_reg = mean_squared_error(y_test,test_pred_reg, squared=False)\n",
    "print(\"RMSE for training data Reg:\",rmse_train_reg)\n",
    "print(\"RMSE for validation data Reg:\",rmse_validation_reg)"
   ]
  },
  {
   "cell_type": "code",
   "execution_count": 37,
   "id": "6bb87f1c",
   "metadata": {},
   "outputs": [
    {
     "name": "stdout",
     "output_type": "stream",
     "text": [
      "best lambda lasso: 0.001\n",
      "RMSE for training data Lasso: 4.748215906554991\n",
      "RMSE for validation data Lasso: 4.639128228287351\n"
     ]
    }
   ],
   "source": [
    "from sklearn.linear_model import Lasso\n",
    "from sklearn.model_selection import GridSearchCV\n",
    "lasso = Lasso()\n",
    "parameters = {'alpha': [0.001, 0.01, 0.1, 1, 10, 100]}\n",
    "grid_search = GridSearchCV(lasso, parameters, cv=5)\n",
    "grid_search.fit(X_train_scaled, y_train)\n",
    "best_lambda_lasso = grid_search.best_params_['alpha']\n",
    "lasso_best = Lasso(alpha=best_lambda_lasso)\n",
    "lasso_best.fit(X_train_scaled, y_train)\n",
    "train_pred_lasso = lasso_best.predict(X_train_scaled)\n",
    "test_pred_lasso = lasso_best.predict(X_test_scaled)\n",
    "rmse_train_lasso = mean_squared_error(y_train, train_pred_lasso, squared=False)\n",
    "rmse_validation_lasso= mean_squared_error(y_test, test_pred_lasso, squared=False)\n",
    "print(\"best lambda lasso:\", best_lambda_lasso)\n",
    "print(\"RMSE for training data Lasso:\",rmse_train_lasso)\n",
    "print(\"RMSE for validation data Lasso:\",rmse_validation_lasso)"
   ]
  },
  {
   "cell_type": "code",
   "execution_count": 38,
   "id": "0753d639",
   "metadata": {},
   "outputs": [
    {
     "name": "stdout",
     "output_type": "stream",
     "text": [
      "best lambda: 10\n",
      "RMSE for training data Ridge: 22.645075682504864\n",
      "RMSE for validation data Ridge: 21.811243071491567\n"
     ]
    }
   ],
   "source": [
    "from sklearn.linear_model import Ridge\n",
    "ridge = Ridge()\n",
    "parameters = {'alpha': [0.001, 0.01, 0.1, 1, 10, 100]}\n",
    "grid_search = GridSearchCV(ridge, parameters, cv=5)\n",
    "grid_search.fit(X_train_scaled, y_train)\n",
    "best_lambda_ridge = grid_search.best_params_['alpha']\n",
    "ridge_best = Ridge(alpha=best_lambda_ridge)\n",
    "ridge_best.fit(X_train_scaled, y_train)\n",
    "train_pred_ridge = ridge_best.predict(X_train_scaled)\n",
    "test_pred_ridge = ridge_best.predict(X_test_scaled)\n",
    "rmse_train_ridge = mean_squared_error(y_train, train_pred_ridge)\n",
    "rmse_validation_ridge = mean_squared_error(y_test, test_pred_ridge)\n",
    "print(\"best lambda:\",best_lambda_ridge)\n",
    "print(\"RMSE for training data Ridge:\",rmse_train_ridge)\n",
    "print(\"RMSE for validation data Ridge:\",rmse_validation_ridge)"
   ]
  },
  {
   "cell_type": "code",
   "execution_count": 40,
   "id": "62d201f8",
   "metadata": {},
   "outputs": [
    {
     "name": "stdout",
     "output_type": "stream",
     "text": [
      "                      Model  RMSE Training  RMSE Test\n",
      "0  Simple Linear Regression       4.748208   4.638690\n",
      "1          Lasso Regression       4.748216   4.639128\n",
      "2          Ridge Regression      22.645076  21.811243\n"
     ]
    }
   ],
   "source": [
    "results = pd.DataFrame({\n",
    "    'Model': ['Simple Linear Regression', 'Lasso Regression', 'Ridge Regression'],\n",
    "    'RMSE Training': [rmse_train_reg, rmse_train_lasso, rmse_train_ridge],\n",
    "    'RMSE Test': [rmse_validation_reg, rmse_validation_lasso, rmse_validation_ridge]\n",
    "})\n",
    "print(results)"
   ]
  },
  {
   "cell_type": "code",
   "execution_count": null,
   "id": "a4c5c367",
   "metadata": {},
   "outputs": [],
   "source": []
  }
 ],
 "metadata": {
  "kernelspec": {
   "display_name": "Python 3 (ipykernel)",
   "language": "python",
   "name": "python3"
  },
  "language_info": {
   "codemirror_mode": {
    "name": "ipython",
    "version": 3
   },
   "file_extension": ".py",
   "mimetype": "text/x-python",
   "name": "python",
   "nbconvert_exporter": "python",
   "pygments_lexer": "ipython3",
   "version": "3.11.5"
  }
 },
 "nbformat": 4,
 "nbformat_minor": 5
}
