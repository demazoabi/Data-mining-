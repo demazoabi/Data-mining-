{
 "cells": [
  {
   "cell_type": "code",
   "execution_count": 1,
   "id": "03edade7",
   "metadata": {},
   "outputs": [],
   "source": [
    "import pandas as pd"
   ]
  },
  {
   "cell_type": "code",
   "execution_count": 48,
   "id": "f4c2a5dd",
   "metadata": {},
   "outputs": [],
   "source": [
    "data = pd.read_csv(\"C:\\\\campaign_data_2024.csv\")"
   ]
  },
  {
   "cell_type": "code",
   "execution_count": 49,
   "id": "eddbbf15",
   "metadata": {},
   "outputs": [],
   "source": [
    "categorical_column = data['Gender'];\n",
    "dummy_variables = pd.get_dummies(categorical_column, drop_first=True, prefix='Gender')\n",
    "dummy_variables = dummy_variables.astype(int)\n",
    "data = pd.concat([data.drop(columns=['Gender']), dummy_variables], axis=1)"
   ]
  },
  {
   "cell_type": "code",
   "execution_count": 32,
   "id": "f2ec5447",
   "metadata": {},
   "outputs": [
    {
     "data": {
      "text/html": [
       "<div>\n",
       "<style scoped>\n",
       "    .dataframe tbody tr th:only-of-type {\n",
       "        vertical-align: middle;\n",
       "    }\n",
       "\n",
       "    .dataframe tbody tr th {\n",
       "        vertical-align: top;\n",
       "    }\n",
       "\n",
       "    .dataframe thead th {\n",
       "        text-align: right;\n",
       "    }\n",
       "</style>\n",
       "<table border=\"1\" class=\"dataframe\">\n",
       "  <thead>\n",
       "    <tr style=\"text-align: right;\">\n",
       "      <th></th>\n",
       "      <th>Unnamed: 0</th>\n",
       "      <th>Money</th>\n",
       "      <th>Recency</th>\n",
       "      <th>Frequency</th>\n",
       "      <th>Age</th>\n",
       "      <th>cat_Children</th>\n",
       "      <th>cat_Teen</th>\n",
       "      <th>cat_Cooking</th>\n",
       "      <th>cat_DIY</th>\n",
       "      <th>cat_Reference</th>\n",
       "      <th>cat_Art</th>\n",
       "      <th>Purchase_Secret_of_Italian_k</th>\n",
       "      <th>Purchase_italian_design</th>\n",
       "      <th>Purchase_Italian_Art</th>\n",
       "      <th>Buy</th>\n",
       "      <th>Gender_M</th>\n",
       "    </tr>\n",
       "  </thead>\n",
       "  <tbody>\n",
       "    <tr>\n",
       "      <th>count</th>\n",
       "      <td>50000.000000</td>\n",
       "      <td>50000.000000</td>\n",
       "      <td>50000.000000</td>\n",
       "      <td>50000.00000</td>\n",
       "      <td>50000.000000</td>\n",
       "      <td>50000.000000</td>\n",
       "      <td>50000.000000</td>\n",
       "      <td>50000.000000</td>\n",
       "      <td>50000.000000</td>\n",
       "      <td>50000.000000</td>\n",
       "      <td>50000.000000</td>\n",
       "      <td>50000.000000</td>\n",
       "      <td>50000.000000</td>\n",
       "      <td>50000.000000</td>\n",
       "      <td>50000.000000</td>\n",
       "      <td>50000.000000</td>\n",
       "    </tr>\n",
       "    <tr>\n",
       "      <th>mean</th>\n",
       "      <td>24999.500000</td>\n",
       "      <td>520.795800</td>\n",
       "      <td>11.567580</td>\n",
       "      <td>3.89022</td>\n",
       "      <td>40.002500</td>\n",
       "      <td>0.854460</td>\n",
       "      <td>0.390980</td>\n",
       "      <td>0.936600</td>\n",
       "      <td>0.463060</td>\n",
       "      <td>0.312240</td>\n",
       "      <td>0.385920</td>\n",
       "      <td>0.122100</td>\n",
       "      <td>0.037640</td>\n",
       "      <td>0.056040</td>\n",
       "      <td>0.090440</td>\n",
       "      <td>0.700360</td>\n",
       "    </tr>\n",
       "    <tr>\n",
       "      <th>std</th>\n",
       "      <td>14433.901067</td>\n",
       "      <td>253.393148</td>\n",
       "      <td>7.366277</td>\n",
       "      <td>3.47627</td>\n",
       "      <td>27.564683</td>\n",
       "      <td>1.120153</td>\n",
       "      <td>0.682996</td>\n",
       "      <td>1.185432</td>\n",
       "      <td>0.765877</td>\n",
       "      <td>0.603882</td>\n",
       "      <td>0.680261</td>\n",
       "      <td>0.327405</td>\n",
       "      <td>0.190326</td>\n",
       "      <td>0.230001</td>\n",
       "      <td>0.286814</td>\n",
       "      <td>0.458105</td>\n",
       "    </tr>\n",
       "    <tr>\n",
       "      <th>min</th>\n",
       "      <td>0.000000</td>\n",
       "      <td>37.500000</td>\n",
       "      <td>1.000000</td>\n",
       "      <td>1.00000</td>\n",
       "      <td>3.000000</td>\n",
       "      <td>0.000000</td>\n",
       "      <td>0.000000</td>\n",
       "      <td>0.000000</td>\n",
       "      <td>0.000000</td>\n",
       "      <td>0.000000</td>\n",
       "      <td>0.000000</td>\n",
       "      <td>0.000000</td>\n",
       "      <td>0.000000</td>\n",
       "      <td>0.000000</td>\n",
       "      <td>0.000000</td>\n",
       "      <td>0.000000</td>\n",
       "    </tr>\n",
       "    <tr>\n",
       "      <th>25%</th>\n",
       "      <td>12499.750000</td>\n",
       "      <td>320.000000</td>\n",
       "      <td>7.000000</td>\n",
       "      <td>1.00000</td>\n",
       "      <td>18.000000</td>\n",
       "      <td>0.000000</td>\n",
       "      <td>0.000000</td>\n",
       "      <td>0.000000</td>\n",
       "      <td>0.000000</td>\n",
       "      <td>0.000000</td>\n",
       "      <td>0.000000</td>\n",
       "      <td>0.000000</td>\n",
       "      <td>0.000000</td>\n",
       "      <td>0.000000</td>\n",
       "      <td>0.000000</td>\n",
       "      <td>0.000000</td>\n",
       "    </tr>\n",
       "    <tr>\n",
       "      <th>50%</th>\n",
       "      <td>24999.500000</td>\n",
       "      <td>522.500000</td>\n",
       "      <td>10.000000</td>\n",
       "      <td>2.00000</td>\n",
       "      <td>33.000000</td>\n",
       "      <td>1.000000</td>\n",
       "      <td>0.000000</td>\n",
       "      <td>1.000000</td>\n",
       "      <td>0.000000</td>\n",
       "      <td>0.000000</td>\n",
       "      <td>0.000000</td>\n",
       "      <td>0.000000</td>\n",
       "      <td>0.000000</td>\n",
       "      <td>0.000000</td>\n",
       "      <td>0.000000</td>\n",
       "      <td>1.000000</td>\n",
       "    </tr>\n",
       "    <tr>\n",
       "      <th>75%</th>\n",
       "      <td>37499.250000</td>\n",
       "      <td>710.000000</td>\n",
       "      <td>14.000000</td>\n",
       "      <td>6.00000</td>\n",
       "      <td>54.000000</td>\n",
       "      <td>1.000000</td>\n",
       "      <td>1.000000</td>\n",
       "      <td>1.000000</td>\n",
       "      <td>1.000000</td>\n",
       "      <td>0.000000</td>\n",
       "      <td>1.000000</td>\n",
       "      <td>0.000000</td>\n",
       "      <td>0.000000</td>\n",
       "      <td>0.000000</td>\n",
       "      <td>0.000000</td>\n",
       "      <td>1.000000</td>\n",
       "    </tr>\n",
       "    <tr>\n",
       "      <th>max</th>\n",
       "      <td>49999.000000</td>\n",
       "      <td>1197.500000</td>\n",
       "      <td>32.000000</td>\n",
       "      <td>12.00000</td>\n",
       "      <td>148.000000</td>\n",
       "      <td>8.000000</td>\n",
       "      <td>6.000000</td>\n",
       "      <td>8.000000</td>\n",
       "      <td>7.000000</td>\n",
       "      <td>5.000000</td>\n",
       "      <td>6.000000</td>\n",
       "      <td>1.000000</td>\n",
       "      <td>1.000000</td>\n",
       "      <td>1.000000</td>\n",
       "      <td>1.000000</td>\n",
       "      <td>1.000000</td>\n",
       "    </tr>\n",
       "  </tbody>\n",
       "</table>\n",
       "</div>"
      ],
      "text/plain": [
       "         Unnamed: 0         Money       Recency    Frequency           Age  \\\n",
       "count  50000.000000  50000.000000  50000.000000  50000.00000  50000.000000   \n",
       "mean   24999.500000    520.795800     11.567580      3.89022     40.002500   \n",
       "std    14433.901067    253.393148      7.366277      3.47627     27.564683   \n",
       "min        0.000000     37.500000      1.000000      1.00000      3.000000   \n",
       "25%    12499.750000    320.000000      7.000000      1.00000     18.000000   \n",
       "50%    24999.500000    522.500000     10.000000      2.00000     33.000000   \n",
       "75%    37499.250000    710.000000     14.000000      6.00000     54.000000   \n",
       "max    49999.000000   1197.500000     32.000000     12.00000    148.000000   \n",
       "\n",
       "       cat_Children      cat_Teen   cat_Cooking       cat_DIY  cat_Reference  \\\n",
       "count  50000.000000  50000.000000  50000.000000  50000.000000   50000.000000   \n",
       "mean       0.854460      0.390980      0.936600      0.463060       0.312240   \n",
       "std        1.120153      0.682996      1.185432      0.765877       0.603882   \n",
       "min        0.000000      0.000000      0.000000      0.000000       0.000000   \n",
       "25%        0.000000      0.000000      0.000000      0.000000       0.000000   \n",
       "50%        1.000000      0.000000      1.000000      0.000000       0.000000   \n",
       "75%        1.000000      1.000000      1.000000      1.000000       0.000000   \n",
       "max        8.000000      6.000000      8.000000      7.000000       5.000000   \n",
       "\n",
       "            cat_Art  Purchase_Secret_of_Italian_k  Purchase_italian_design  \\\n",
       "count  50000.000000                  50000.000000             50000.000000   \n",
       "mean       0.385920                      0.122100                 0.037640   \n",
       "std        0.680261                      0.327405                 0.190326   \n",
       "min        0.000000                      0.000000                 0.000000   \n",
       "25%        0.000000                      0.000000                 0.000000   \n",
       "50%        0.000000                      0.000000                 0.000000   \n",
       "75%        1.000000                      0.000000                 0.000000   \n",
       "max        6.000000                      1.000000                 1.000000   \n",
       "\n",
       "       Purchase_Italian_Art           Buy      Gender_M  \n",
       "count          50000.000000  50000.000000  50000.000000  \n",
       "mean               0.056040      0.090440      0.700360  \n",
       "std                0.230001      0.286814      0.458105  \n",
       "min                0.000000      0.000000      0.000000  \n",
       "25%                0.000000      0.000000      0.000000  \n",
       "50%                0.000000      0.000000      1.000000  \n",
       "75%                0.000000      0.000000      1.000000  \n",
       "max                1.000000      1.000000      1.000000  "
      ]
     },
     "execution_count": 32,
     "metadata": {},
     "output_type": "execute_result"
    }
   ],
   "source": [
    "data.describe()"
   ]
  },
  {
   "cell_type": "code",
   "execution_count": 36,
   "id": "cfff95a1",
   "metadata": {},
   "outputs": [],
   "source": [
    "import sweetviz as sv"
   ]
  },
  {
   "cell_type": "code",
   "execution_count": 37,
   "id": "3355c9df",
   "metadata": {},
   "outputs": [
    {
     "data": {
      "application/vnd.jupyter.widget-view+json": {
       "model_id": "0dd518f4396149eeb14a04ba02cf0937",
       "version_major": 2,
       "version_minor": 0
      },
      "text/plain": [
       "                                             |          | [  0%]   00:00 -> (? left)"
      ]
     },
     "metadata": {},
     "output_type": "display_data"
    },
    {
     "name": "stdout",
     "output_type": "stream",
     "text": [
      "Report SWEETVIZ_REPORT.html was generated! NOTEBOOK/COLAB USERS: the web browser MAY not pop up, regardless, the report IS saved in your notebook/colab files.\n"
     ]
    }
   ],
   "source": [
    "report = sv.analyze(data)\n",
    "report.show_html()"
   ]
  },
  {
   "cell_type": "code",
   "execution_count": 51,
   "id": "9c6ec7d0",
   "metadata": {},
   "outputs": [],
   "source": [
    "X = data.drop(columns=['Gender_M'])\n",
    "y = data['Buy']\n",
    "from sklearn.model_selection import train_test_split\n",
    "X_train, X_test, y_train, y_test = train_test_split(X, y, test_size=0.3, random_state=42)"
   ]
  },
  {
   "cell_type": "code",
   "execution_count": 56,
   "id": "5b2802db",
   "metadata": {},
   "outputs": [
    {
     "data": {
      "text/plain": [
       "array([0, 0, 0, ..., 0, 0, 0])"
      ]
     },
     "execution_count": 56,
     "metadata": {},
     "output_type": "execute_result"
    }
   ],
   "source": [
    "from sklearn.linear_model import LogisticRegression\n",
    "reg_model = LogisticRegression(max_iter=1000)\n",
    "reg_model.fit(X_train, y_train)\n",
    "y_pred = reg_model.predict_proba(X_test)[:, 1]\n",
    "y_pred = (y_pred > 0.5).astype(int)\n",
    "y_pred"
   ]
  },
  {
   "cell_type": "code",
   "execution_count": 113,
   "id": "51815588",
   "metadata": {},
   "outputs": [],
   "source": [
    "import sklearn.metrics as metrics\n",
    "probs = reg_model.predict_proba(X_test)\n",
    "preds = probs[:, 1]\n",
    "preds = (preds > 0.5).astype(int)\n",
    "fpr, tpr, threshold = metrics.roc_curve(y_test, preds)\n",
    "auc = metrics.auc(fpr, tpr)"
   ]
  },
  {
   "cell_type": "code",
   "execution_count": 114,
   "id": "35dea3ee",
   "metadata": {},
   "outputs": [
    {
     "data": {
      "image/png": "[encoded data removed]",
      "text/plain": [
       "<Figure size 640x480 with 1 Axes>"
      ]
     },
     "metadata": {},
     "output_type": "display_data"
    }
   ],
   "source": [
    "import matplotlib.pyplot as plt\n",
    "plt.plot(fpr, tpr, 'b', label = 'AUC = %0.2f' % auc)\n",
    "plt.legend(loc = 'lower right')\n",
    "plt.plot([0, 1], [0, 1],'r--')\n",
    "plt.xlim([0, 1])\n",
    "plt.ylim([0, 1])\n",
    "plt.ylabel('True Positive Rate')\n",
    "plt.xlabel('False Positive Rate')\n",
    "plt.show()\n"
   ]
  },
  {
   "cell_type": "code",
   "execution_count": 99,
   "id": "5b593e02",
   "metadata": {},
   "outputs": [],
   "source": [
    "from sklearn.metrics import confusion_matrix\n",
    "confusion_matrices = []\n",
    "for thres in threshold:\n",
    "    y_pred = (preds > thres).astype(int)\n",
    "    confusion_matrices.append(confusion_matrix(y_test, y_pred))"
   ]
  },
  {
   "cell_type": "code",
   "execution_count": 100,
   "id": "bdd910a6",
   "metadata": {},
   "outputs": [],
   "source": [
    "def calculate_expected(confusion_matrix):\n",
    "    tp, fp, fn, tn = confusion_matrix.ravel()\n",
    "    profit = (tp * 100) - (fp * 12)\n",
    "    return profit"
   ]
  },
  {
   "cell_type": "code",
   "execution_count": 101,
   "id": "371ba182",
   "metadata": {},
   "outputs": [],
   "source": [
    "expected_values =[calculate_expected(c) for c in confusion_matrices]"
   ]
  },
  {
   "cell_type": "code",
   "execution_count": 102,
   "id": "19418c1b",
   "metadata": {},
   "outputs": [
    {
     "name": "stdout",
     "output_type": "stream",
     "text": [
      "Optimal Confusion Matrix:\n",
      "[[13677     0]\n",
      " [ 1323     0]]\n"
     ]
    }
   ],
   "source": [
    "max_value = max(expected_values)\n",
    "index = expected_values.index(max_value)\n",
    "optimal_threshold = threshold[index]\n",
    "optimal_matrix = confusion_matrices[index]\n",
    "print(\"Optimal Confusion Matrix:\")\n",
    "print(optimal_matrix)"
   ]
  },
  {
   "cell_type": "code",
   "execution_count": 124,
   "id": "fe5802bd",
   "metadata": {},
   "outputs": [
    {
     "name": "stdout",
     "output_type": "stream",
     "text": [
      "AUC on Validation File: 0.999244142101285\n",
      "confusion matrix on validation: [[13677     0]\n",
      " [    2  1321]]\n",
      "expected value validation : 132100\n"
     ]
    }
   ],
   "source": [
    "validation_preds = preds\n",
    "fpr_validation, tpr_validation,_ = metrics.roc_curve(y_test, validation_preds)\n",
    "auc_validation = metrics.auc(fpr_validation, tpr_validation)\n",
    "confusion_matrix_validation = confusion_matrix(y_test, validation_preds)\n",
    "tn_validation, fp_validation, fn_validation, tp_validation = confusion_matrix_validation.ravel()\n",
    "expected_value_validation = (tp_validation * 100) - (fp_validation * 12)\n",
    "print(\"AUC on Validation File:\", auc_validation)\n",
    "print(\"confusion matrix on validation:\", confusion_matrix_validation)\n",
    "print(\"expected value validation :\",expected_value_validation)"
   ]
  },
  {
   "cell_type": "code",
   "execution_count": 128,
   "id": "6588913e",
   "metadata": {},
   "outputs": [
    {
     "name": "stdout",
     "output_type": "stream",
     "text": [
      "AUC on Training : 0.9998437011566115\n",
      "confusion matrix on Training: [[31801     0]\n",
      " [    1  3198]]\n",
      "expected value Training : 319800\n"
     ]
    }
   ],
   "source": [
    "train_preds = reg_model.predict_proba(X_train)[:, 1]\n",
    "train_preds = (train_preds > 0.5).astype(int)\n",
    "fpr_train, tpr_train, threshold_train = metrics.roc_curve(y_train, train_preds)\n",
    "train_auc = metrics.auc(fpr_train, tpr_train)\n",
    "confusion_matrix_train = confusion_matrix(y_train,train_preds)\n",
    "tn_train, fp_train, fn_train, tp_train = confusion_matrix_train.ravel()\n",
    "expected_value_train = (tp_train * 100) - (fp_train * 12)\n",
    "print(\"AUC on Training :\",train_auc)\n",
    "print(\"confusion matrix on Training:\",confusion_matrix_train)\n",
    "print(\"expected value Training :\",expected_value_train)"
   ]
  },
  {
   "cell_type": "code",
   "execution_count": 127,
   "id": "49210258",
   "metadata": {},
   "outputs": [
    {
     "name": "stdout",
     "output_type": "stream",
     "text": [
      "Accuracy train: 0.9999714285714286\n",
      "Precision train: 1.0\n",
      "Recall train: 0.9996874023132228\n",
      "F1-Score train: 0.9998436767234641\n",
      "Accuracy validation: 0.9998666666666667\n",
      "Precision validation: 1.0\n",
      "Recall validation: 0.99848828420257\n",
      "F1-Score validation: 0.9992435703479576\n"
     ]
    }
   ],
   "source": [
    "accuracy_train = (tp_train +tn_train) / (tp_train + fp_train + tn_train + fn_train)\n",
    "precision_train = tp_train / (tp_train + fp_train)\n",
    "recall_train = tp_train / (tp_train + fn_train)\n",
    "f1_score_train = 2 * (precision_train * recall_train) / (precision_train + recall_train)\n",
    "print(\"Accuracy train:\", accuracy_train)\n",
    "print(\"Precision train:\", precision_train)\n",
    "print(\"Recall train:\", recall_train)\n",
    "print(\"F1-Score train:\", f1_score_train)\n",
    "accuracy_validation = (tp_validation +tn_validation) / (tp_validation + fp_validation + tn_validation + fn_validation)\n",
    "precision_train = tp_validation / (tp_validation + fp_validation)\n",
    "recall_train = tp_validation / (tp_validation + fn_validation)\n",
    "f1_score_train = 2 * (precision_validation * recall_validation) / (precision_validation + recall_validation)\n",
    "print(\"Accuracy validation:\", accuracy_validation)\n",
    "print(\"Precision validation:\", precision_validation)\n",
    "print(\"Recall validation:\", recall_validation)\n",
    "print(\"F1-Score validation:\", f1_score_validation)"
   ]
  },
  {
   "cell_type": "code",
   "execution_count": 130,
   "id": "76ca19aa",
   "metadata": {},
   "outputs": [
    {
     "data": {
      "image/png": "[encoded data removed]",
      "text/plain": [
       "<Figure size 640x480 with 1 Axes>"
      ]
     },
     "metadata": {},
     "output_type": "display_data"
    }
   ],
   "source": [
    "plt.plot(fpr_train, tpr_train, 'b', label = 'AUC = %0.2f' % train_auc)\n",
    "plt.legend(loc = 'lower right')\n",
    "plt.plot([0, 1], [0, 1],'r--')\n",
    "plt.xlim([0, 1])\n",
    "plt.ylim([0, 1])\n",
    "plt.ylabel('True Positive Rate')\n",
    "plt.xlabel('False Positive Rate')\n",
    "plt.show()"
   ]
  },
  {
   "cell_type": "code",
   "execution_count": null,
   "id": "de675826",
   "metadata": {},
   "outputs": [],
   "source": []
  }
 ],
 "metadata": {
  "kernelspec": {
   "display_name": "Python 3 (ipykernel)",
   "language": "python",
   "name": "python3"
  },
  "language_info": {
   "codemirror_mode": {
    "name": "ipython",
    "version": 3
   },
   "file_extension": ".py",
   "mimetype": "text/x-python",
   "name": "python",
   "nbconvert_exporter": "python",
   "pygments_lexer": "ipython3",
   "version": "3.11.5"
  }
 },
 "nbformat": 4,
 "nbformat_minor": 5
}
